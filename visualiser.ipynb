{
 "cells": [
  {
   "cell_type": "markdown",
   "metadata": {},
   "source": [
    "This notebook is used to visualize the processed events."
   ]
  },
  {
   "cell_type": "code",
   "execution_count": null,
   "metadata": {},
   "outputs": [],
   "source": [
    "import os\n",
    "import pandas as pd\n",
    "import matplotlib.pyplot as plt\n",
    "plt.rcParams.update({'font.size': 8})\n",
    "from visual_utils import *\n",
    "\n",
    "path_raw = './RawData/'\n",
    "path_cleaned = './CleanedData/'\n",
    "path_processed = './ProcessedData/'\n",
    "path_matched = './MatchedEvents/'"
   ]
  },
  {
   "cell_type": "code",
   "execution_count": null,
   "metadata": {},
   "outputs": [],
   "source": [
    "# crash_type = 'Crash'\n",
    "crash_type = 'NearCrash'\n",
    "\n",
    "data_ego = pd.read_hdf(path_processed + 'HundredCar_'+crash_type+'_Ego.h5', key='data')\n",
    "data_sur = pd.read_hdf(path_processed + 'HundredCar_'+crash_type+'_Surrounding.h5', key='data')\n",
    "matched_events = pd.read_hdf(path_matched + 'HundredCar_'+crash_type+'es.h5', key='data')\n",
    "meta = pd.read_csv(path_cleaned + 'HundredCar_metadata_'+crash_type+'Event.csv').set_index('webfileid')"
   ]
  },
  {
   "cell_type": "markdown",
   "metadata": {},
   "source": [
    "### Visualize BEV trajectories"
   ]
  },
  {
   "cell_type": "code",
   "execution_count": null,
   "metadata": {},
   "outputs": [],
   "source": [
    "i = 0"
   ]
  },
  {
   "cell_type": "code",
   "execution_count": null,
   "metadata": {},
   "outputs": [],
   "source": [
    "trip_id = data_ego['trip_id'].unique()[i]\n",
    "\n",
    "df_ego = data_ego[data_ego['trip_id'] == trip_id]\n",
    "df_sur = data_sur[data_sur['trip_id'] == trip_id]\n",
    "\n",
    "if len(df_sur)==0:\n",
    "    print('No surrounding data collected for trip ', trip_id)\n",
    "else:\n",
    "    visualize_trip(df_ego, df_sur, trip_id)\n",
    "\n",
    "i += 1"
   ]
  },
  {
   "cell_type": "markdown",
   "metadata": {},
   "source": [
    "### Visualize matched events\n",
    "\n",
    "`_i` : ego/subject vehicle\n",
    "\n",
    "`_j` : surrounding/target vehicle"
   ]
  },
  {
   "cell_type": "code",
   "execution_count": null,
   "metadata": {},
   "outputs": [],
   "source": [
    "i = 0"
   ]
  },
  {
   "cell_type": "code",
   "execution_count": null,
   "metadata": {},
   "outputs": [],
   "source": [
    "trip_id = matched_events['trip_id'].unique()[i]\n",
    "\n",
    "events = matched_events[matched_events['trip_id']==trip_id]\n",
    "visualize_event(events, trip_id)\n",
    "\n",
    "i += 1"
   ]
  },
  {
   "cell_type": "markdown",
   "metadata": {},
   "source": [
    "save plots for making .gif"
   ]
  },
  {
   "cell_type": "code",
   "execution_count": null,
   "metadata": {},
   "outputs": [],
   "source": [
    "for trip_id in matched_events['trip_id'].unique():\n",
    "    print(f'saving trip {trip_id} visualizations...')\n",
    "    save_dir = f'./visual_examples/{trip_id}/'\n",
    "    if not os.path.exists(save_dir):\n",
    "        os.makedirs(save_dir)\n",
    "\n",
    "    events = matched_events[matched_events['trip_id']==trip_id]\n",
    "    visualize_event(events, trip_id, save=True, save_dir=save_dir)\n",
    "\n",
    "    clear_output(wait=True)"
   ]
  },
  {
   "cell_type": "code",
   "execution_count": null,
   "metadata": {},
   "outputs": [],
   "source": []
  }
 ],
 "metadata": {
  "kernelspec": {
   "display_name": "conflict",
   "language": "python",
   "name": "python3"
  },
  "language_info": {
   "codemirror_mode": {
    "name": "ipython",
    "version": 3
   },
   "file_extension": ".py",
   "mimetype": "text/x-python",
   "name": "python",
   "nbconvert_exporter": "python",
   "pygments_lexer": "ipython3",
   "version": "3.12.1"
  }
 },
 "nbformat": 4,
 "nbformat_minor": 2
}
